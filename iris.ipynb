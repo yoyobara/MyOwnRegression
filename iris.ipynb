{
 "cells": [
  {
   "cell_type": "code",
   "execution_count": 1,
   "id": "9d1cd340-7b06-4378-97fc-50d2979d08ce",
   "metadata": {},
   "outputs": [
    {
     "name": "stderr",
     "output_type": "stream",
     "text": [
      "Exception ignored in: <bound method IPythonKernel._clean_thread_parent_frames of <ipykernel.ipkernel.IPythonKernel object at 0x7b31415f2c60>>\n",
      "Traceback (most recent call last):\n",
      "  File \"/usr/lib/python3.12/site-packages/ipykernel/ipkernel.py\", line 790, in _clean_thread_parent_frames\n",
      "    active_threads = {thread.ident for thread in threading.enumerate()}\n",
      "                      ^^^^^^^^^^^^\n",
      "KeyboardInterrupt: \n",
      "Exception ignored in: <bound method IPythonKernel._clean_thread_parent_frames of <ipykernel.ipkernel.IPythonKernel object at 0x7b31415f2c60>>\n",
      "Traceback (most recent call last):\n",
      "  File \"/usr/lib/python3.12/site-packages/ipykernel/ipkernel.py\", line 775, in _clean_thread_parent_frames\n",
      "    def _clean_thread_parent_frames(\n",
      "\n",
      "KeyboardInterrupt: \n",
      "Exception ignored in: <bound method IPythonKernel._clean_thread_parent_frames of <ipykernel.ipkernel.IPythonKernel object at 0x7b31415f2c60>>\n",
      "Traceback (most recent call last):\n",
      "  File \"/usr/lib/python3.12/site-packages/ipykernel/ipkernel.py\", line 775, in _clean_thread_parent_frames\n",
      "    def _clean_thread_parent_frames(\n",
      "\n",
      "KeyboardInterrupt: \n"
     ]
    }
   ],
   "source": [
    "import numpy as np\n",
    "import pandas as pd\n",
    "import seaborn as sns"
   ]
  },
  {
   "cell_type": "code",
   "execution_count": 2,
   "id": "9e18e035-f063-48c5-81d8-8f0c0ba97ac0",
   "metadata": {},
   "outputs": [
    {
     "data": {
      "text/html": [
       "<div>\n",
       "<style scoped>\n",
       "    .dataframe tbody tr th:only-of-type {\n",
       "        vertical-align: middle;\n",
       "    }\n",
       "\n",
       "    .dataframe tbody tr th {\n",
       "        vertical-align: top;\n",
       "    }\n",
       "\n",
       "    .dataframe thead th {\n",
       "        text-align: right;\n",
       "    }\n",
       "</style>\n",
       "<table border=\"1\" class=\"dataframe\">\n",
       "  <thead>\n",
       "    <tr style=\"text-align: right;\">\n",
       "      <th></th>\n",
       "      <th>SepalLengthCm</th>\n",
       "      <th>SepalWidthCm</th>\n",
       "      <th>PetalLengthCm</th>\n",
       "    </tr>\n",
       "  </thead>\n",
       "  <tbody>\n",
       "    <tr>\n",
       "      <th>0</th>\n",
       "      <td>5.1</td>\n",
       "      <td>3.5</td>\n",
       "      <td>1.4</td>\n",
       "    </tr>\n",
       "    <tr>\n",
       "      <th>1</th>\n",
       "      <td>4.9</td>\n",
       "      <td>3.0</td>\n",
       "      <td>1.4</td>\n",
       "    </tr>\n",
       "    <tr>\n",
       "      <th>2</th>\n",
       "      <td>4.7</td>\n",
       "      <td>3.2</td>\n",
       "      <td>1.3</td>\n",
       "    </tr>\n",
       "    <tr>\n",
       "      <th>3</th>\n",
       "      <td>4.6</td>\n",
       "      <td>3.1</td>\n",
       "      <td>1.5</td>\n",
       "    </tr>\n",
       "    <tr>\n",
       "      <th>4</th>\n",
       "      <td>5.0</td>\n",
       "      <td>3.6</td>\n",
       "      <td>1.4</td>\n",
       "    </tr>\n",
       "    <tr>\n",
       "      <th>...</th>\n",
       "      <td>...</td>\n",
       "      <td>...</td>\n",
       "      <td>...</td>\n",
       "    </tr>\n",
       "    <tr>\n",
       "      <th>145</th>\n",
       "      <td>6.7</td>\n",
       "      <td>3.0</td>\n",
       "      <td>5.2</td>\n",
       "    </tr>\n",
       "    <tr>\n",
       "      <th>146</th>\n",
       "      <td>6.3</td>\n",
       "      <td>2.5</td>\n",
       "      <td>5.0</td>\n",
       "    </tr>\n",
       "    <tr>\n",
       "      <th>147</th>\n",
       "      <td>6.5</td>\n",
       "      <td>3.0</td>\n",
       "      <td>5.2</td>\n",
       "    </tr>\n",
       "    <tr>\n",
       "      <th>148</th>\n",
       "      <td>6.2</td>\n",
       "      <td>3.4</td>\n",
       "      <td>5.4</td>\n",
       "    </tr>\n",
       "    <tr>\n",
       "      <th>149</th>\n",
       "      <td>5.9</td>\n",
       "      <td>3.0</td>\n",
       "      <td>5.1</td>\n",
       "    </tr>\n",
       "  </tbody>\n",
       "</table>\n",
       "<p>150 rows × 3 columns</p>\n",
       "</div>"
      ],
      "text/plain": [
       "     SepalLengthCm  SepalWidthCm  PetalLengthCm\n",
       "0              5.1           3.5            1.4\n",
       "1              4.9           3.0            1.4\n",
       "2              4.7           3.2            1.3\n",
       "3              4.6           3.1            1.5\n",
       "4              5.0           3.6            1.4\n",
       "..             ...           ...            ...\n",
       "145            6.7           3.0            5.2\n",
       "146            6.3           2.5            5.0\n",
       "147            6.5           3.0            5.2\n",
       "148            6.2           3.4            5.4\n",
       "149            5.9           3.0            5.1\n",
       "\n",
       "[150 rows x 3 columns]"
      ]
     },
     "execution_count": 2,
     "metadata": {},
     "output_type": "execute_result"
    }
   ],
   "source": [
    "df = pd.read_csv(\"Iris.csv\")[['SepalLengthCm', 'SepalWidthCm', 'PetalLengthCm']]\n",
    "df"
   ]
  },
  {
   "cell_type": "code",
   "execution_count": 3,
   "id": "39cd0c49-a2f9-40ab-a85c-6cd442f9c324",
   "metadata": {},
   "outputs": [
    {
     "data": {
      "text/plain": [
       "150"
      ]
     },
     "execution_count": 3,
     "metadata": {},
     "output_type": "execute_result"
    }
   ],
   "source": [
    "M = len(df)\n",
    "M"
   ]
  },
  {
   "cell_type": "code",
   "execution_count": 4,
   "id": "13faf3b4-e1d4-4b94-bba7-b202a425aedf",
   "metadata": {},
   "outputs": [],
   "source": [
    "X = df[['SepalLengthCm', 'SepalWidthCm']]\n",
    "y = df['PetalLengthCm']"
   ]
  },
  {
   "cell_type": "code",
   "execution_count": 5,
   "id": "5d6a7aee-9687-4c54-9f04-5989a90908b8",
   "metadata": {},
   "outputs": [
    {
     "name": "stdout",
     "output_type": "stream",
     "text": [
      "(2, 2)\n"
     ]
    },
    {
     "data": {
      "text/plain": [
       "array([[ 5,  4],\n",
       "       [15,  8]])"
      ]
     },
     "execution_count": 5,
     "metadata": {},
     "output_type": "execute_result"
    }
   ],
   "source": [
    "m1 = np.array([[1, 2],[3,4]])\n",
    "v1 = np.array([5, 2])\n",
    "\n",
    "print(m1.shape)\n",
    "m1 * v1.T"
   ]
  },
  {
   "cell_type": "code",
   "execution_count": 6,
   "id": "36c20fd8-2bdc-402e-b7f6-ddb2f0e545a6",
   "metadata": {},
   "outputs": [],
   "source": [
    "# cost function partial derivatives for w, b. this is multiple regression so w is a vector of coefs.\n",
    "\n",
    "# this ones returns the gradient of J with respect to w (vector)\n",
    "def dJdw(w, b):\n",
    "    return (-2 / M) * (X * (y - X.dot(w) - b).to_numpy()[:, None]).sum() \n",
    "\n",
    "# returns the gradient of J with respect to b (scalar)\n",
    "def dJdb(w, b):\n",
    "    return (-2 / M) * (y - X.dot(w) - b).sum() "
   ]
  },
  {
   "cell_type": "code",
   "execution_count": null,
   "id": "d7200e2e-755f-42d5-91dc-e55f415c0af6",
   "metadata": {},
   "outputs": [],
   "source": [
    "# start gradient descent\n",
    "\n",
    "ITERATIONS = 100000\n",
    "GAMMA = 0.02\n",
    "w = np.zeros((X.shape[1],))\n",
    "b = 0\n",
    "\n",
    "for i in range(ITERATIONS):\n",
    "    w = w - GAMMA * dJdw(w, b)\n",
    "    b = b - GAMMA * dJdb(w, b)\n"
   ]
  },
  {
   "cell_type": "code",
   "execution_count": null,
   "id": "17bb412d-d0f4-4251-a885-2ce489526a27",
   "metadata": {},
   "outputs": [],
   "source": [
    "b"
   ]
  },
  {
   "cell_type": "code",
   "execution_count": null,
   "id": "6a61c7f6-b7d8-40a0-84b0-fa774e21a903",
   "metadata": {},
   "outputs": [],
   "source": [
    "w"
   ]
  },
  {
   "cell_type": "code",
   "execution_count": null,
   "id": "e612be6f-4eea-47fa-9a64-2f5370445eb2",
   "metadata": {},
   "outputs": [],
   "source": [
    "sns.scatterplot(x=X, y=y)\n",
    "sns.lineplot(x=lineX, y=lineY)"
   ]
  }
 ],
 "metadata": {
  "kernelspec": {
   "display_name": "Python 3 (ipykernel)",
   "language": "python",
   "name": "python3"
  },
  "language_info": {
   "codemirror_mode": {
    "name": "ipython",
    "version": 3
   },
   "file_extension": ".py",
   "mimetype": "text/x-python",
   "name": "python",
   "nbconvert_exporter": "python",
   "pygments_lexer": "ipython3",
   "version": "3.12.3"
  }
 },
 "nbformat": 4,
 "nbformat_minor": 5
}
