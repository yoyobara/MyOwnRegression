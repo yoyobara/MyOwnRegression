{
 "cells": [
  {
   "cell_type": "code",
   "execution_count": 14,
   "id": "9d1cd340-7b06-4378-97fc-50d2979d08ce",
   "metadata": {},
   "outputs": [],
   "source": [
    "import numpy as np\n",
    "import pandas as pd\n",
    "import seaborn as sns"
   ]
  },
  {
   "cell_type": "code",
   "execution_count": 15,
   "id": "9e18e035-f063-48c5-81d8-8f0c0ba97ac0",
   "metadata": {},
   "outputs": [
    {
     "data": {
      "text/html": [
       "<div>\n",
       "<style scoped>\n",
       "    .dataframe tbody tr th:only-of-type {\n",
       "        vertical-align: middle;\n",
       "    }\n",
       "\n",
       "    .dataframe tbody tr th {\n",
       "        vertical-align: top;\n",
       "    }\n",
       "\n",
       "    .dataframe thead th {\n",
       "        text-align: right;\n",
       "    }\n",
       "</style>\n",
       "<table border=\"1\" class=\"dataframe\">\n",
       "  <thead>\n",
       "    <tr style=\"text-align: right;\">\n",
       "      <th></th>\n",
       "      <th>SepalLengthCm</th>\n",
       "      <th>PetalLengthCm</th>\n",
       "    </tr>\n",
       "  </thead>\n",
       "  <tbody>\n",
       "    <tr>\n",
       "      <th>0</th>\n",
       "      <td>5.1</td>\n",
       "      <td>1.4</td>\n",
       "    </tr>\n",
       "    <tr>\n",
       "      <th>1</th>\n",
       "      <td>4.9</td>\n",
       "      <td>1.4</td>\n",
       "    </tr>\n",
       "    <tr>\n",
       "      <th>2</th>\n",
       "      <td>4.7</td>\n",
       "      <td>1.3</td>\n",
       "    </tr>\n",
       "    <tr>\n",
       "      <th>3</th>\n",
       "      <td>4.6</td>\n",
       "      <td>1.5</td>\n",
       "    </tr>\n",
       "    <tr>\n",
       "      <th>4</th>\n",
       "      <td>5.0</td>\n",
       "      <td>1.4</td>\n",
       "    </tr>\n",
       "    <tr>\n",
       "      <th>...</th>\n",
       "      <td>...</td>\n",
       "      <td>...</td>\n",
       "    </tr>\n",
       "    <tr>\n",
       "      <th>145</th>\n",
       "      <td>6.7</td>\n",
       "      <td>5.2</td>\n",
       "    </tr>\n",
       "    <tr>\n",
       "      <th>146</th>\n",
       "      <td>6.3</td>\n",
       "      <td>5.0</td>\n",
       "    </tr>\n",
       "    <tr>\n",
       "      <th>147</th>\n",
       "      <td>6.5</td>\n",
       "      <td>5.2</td>\n",
       "    </tr>\n",
       "    <tr>\n",
       "      <th>148</th>\n",
       "      <td>6.2</td>\n",
       "      <td>5.4</td>\n",
       "    </tr>\n",
       "    <tr>\n",
       "      <th>149</th>\n",
       "      <td>5.9</td>\n",
       "      <td>5.1</td>\n",
       "    </tr>\n",
       "  </tbody>\n",
       "</table>\n",
       "<p>150 rows × 2 columns</p>\n",
       "</div>"
      ],
      "text/plain": [
       "     SepalLengthCm  PetalLengthCm\n",
       "0              5.1            1.4\n",
       "1              4.9            1.4\n",
       "2              4.7            1.3\n",
       "3              4.6            1.5\n",
       "4              5.0            1.4\n",
       "..             ...            ...\n",
       "145            6.7            5.2\n",
       "146            6.3            5.0\n",
       "147            6.5            5.2\n",
       "148            6.2            5.4\n",
       "149            5.9            5.1\n",
       "\n",
       "[150 rows x 2 columns]"
      ]
     },
     "execution_count": 15,
     "metadata": {},
     "output_type": "execute_result"
    }
   ],
   "source": [
    "df = pd.read_csv(\"Iris.csv\")[['SepalLengthCm', 'PetalLengthCm']]\n",
    "df"
   ]
  },
  {
   "cell_type": "code",
   "execution_count": 16,
   "id": "26000d46-56f9-4f78-b489-5d4c3dbce8f1",
   "metadata": {},
   "outputs": [
    {
     "data": {
      "text/plain": [
       "<Axes: xlabel='SepalLengthCm', ylabel='PetalLengthCm'>"
      ]
     },
     "execution_count": 16,
     "metadata": {},
     "output_type": "execute_result"
    },
    {
     "data": {
      "image/png": "[encoded data removed]",
      "text/plain": [
       "<Figure size 640x480 with 1 Axes>"
      ]
     },
     "metadata": {},
     "output_type": "display_data"
    }
   ],
   "source": [
    "sns.scatterplot(data=df, x='SepalLengthCm', y='PetalLengthCm')"
   ]
  },
  {
   "cell_type": "code",
   "execution_count": 17,
   "id": "39cd0c49-a2f9-40ab-a85c-6cd442f9c324",
   "metadata": {},
   "outputs": [
    {
     "data": {
      "text/plain": [
       "150"
      ]
     },
     "execution_count": 17,
     "metadata": {},
     "output_type": "execute_result"
    }
   ],
   "source": [
    "M = len(df)\n",
    "M"
   ]
  },
  {
   "cell_type": "code",
   "execution_count": 18,
   "id": "13faf3b4-e1d4-4b94-bba7-b202a425aedf",
   "metadata": {},
   "outputs": [],
   "source": [
    "X = df['SepalLengthCm'].to_numpy(dtype=np.float64)\n",
    "y = df['PetalLengthCm'].to_numpy(dtype=np.float64)"
   ]
  },
  {
   "cell_type": "code",
   "execution_count": 19,
   "id": "36c20fd8-2bdc-402e-b7f6-ddb2f0e545a6",
   "metadata": {},
   "outputs": [],
   "source": [
    "def dJdw(w, b):\n",
    "    return (-2 / M) * sum((xi*(yi - w*xi - b)) for xi, yi in zip(X, y))\n",
    "\n",
    "def dJdb(w, b):\n",
    "    return (-2 / M) * sum((yi - w*xi - b) for xi, yi in zip(X, y))"
   ]
  },
  {
   "cell_type": "code",
   "execution_count": 20,
   "id": "0fa9112e-4178-4cc4-919e-18cdd15d6a22",
   "metadata": {},
   "outputs": [],
   "source": [
    "ITERATIONS = 100000\n",
    "GAMMA = 0.02"
   ]
  },
  {
   "cell_type": "code",
   "execution_count": 21,
   "id": "127d76ca-8e58-4603-984d-0499b976a1ba",
   "metadata": {},
   "outputs": [],
   "source": [
    "w = 0\n",
    "b = 0"
   ]
  },
  {
   "cell_type": "code",
   "execution_count": 22,
   "id": "d7200e2e-755f-42d5-91dc-e55f415c0af6",
   "metadata": {},
   "outputs": [],
   "source": [
    "for _ in range(ITERATIONS):\n",
    "    w = w - GAMMA * dJdw(w, b)\n",
    "    b = b - GAMMA * dJdb(w, b)"
   ]
  },
  {
   "cell_type": "code",
   "execution_count": 23,
   "id": "17bb412d-d0f4-4251-a885-2ce489526a27",
   "metadata": {},
   "outputs": [
    {
     "data": {
      "text/plain": [
       "(1.8575096654213474, -7.095381478278729)"
      ]
     },
     "execution_count": 23,
     "metadata": {},
     "output_type": "execute_result"
    }
   ],
   "source": [
    "w, b"
   ]
  },
  {
   "cell_type": "code",
   "execution_count": 24,
   "id": "1a58261d-8286-4027-8be1-795f84b50d4c",
   "metadata": {},
   "outputs": [],
   "source": [
    "@np.vectorize\n",
    "def f(x):\n",
    "    return w * x + b"
   ]
  },
  {
   "cell_type": "code",
   "execution_count": 25,
   "id": "e3333bba-0ea4-44dd-a209-450194d6fde2",
   "metadata": {},
   "outputs": [],
   "source": [
    "lineX = np.linspace(X.min(), X.max(), num=100)\n",
    "lineY = f(lineX)"
   ]
  },
  {
   "cell_type": "code",
   "execution_count": 26,
   "id": "e612be6f-4eea-47fa-9a64-2f5370445eb2",
   "metadata": {},
   "outputs": [
    {
     "data": {
      "text/plain": [
       "<Axes: xlabel='SepalLengthCm', ylabel='PetalLengthCm'>"
      ]
     },
     "execution_count": 26,
     "metadata": {},
     "output_type": "execute_result"
    },
    {
     "data": {
      "image/png": "[encoded data removed]",
      "text/plain": [
       "<Figure size 640x480 with 1 Axes>"
      ]
     },
     "metadata": {},
     "output_type": "display_data"
    }
   ],
   "source": [
    "sns.scatterplot(data=df, x='SepalLengthCm', y='PetalLengthCm')\n",
    "sns.lineplot(x=lineX, y=lineY)"
   ]
  },
  {
   "cell_type": "code",
   "execution_count": null,
   "id": "de4a4767-fa2e-4bd4-b0a8-56a8e6da41ee",
   "metadata": {},
   "outputs": [],
   "source": []
  }
 ],
 "metadata": {
  "kernelspec": {
   "display_name": "Python 3 (ipykernel)",
   "language": "python",
   "name": "python3"
  },
  "language_info": {
   "codemirror_mode": {
    "name": "ipython",
    "version": 3
   },
   "file_extension": ".py",
   "mimetype": "text/x-python",
   "name": "python",
   "nbconvert_exporter": "python",
   "pygments_lexer": "ipython3",
   "version": "3.12.3"
  }
 },
 "nbformat": 4,
 "nbformat_minor": 5
}
